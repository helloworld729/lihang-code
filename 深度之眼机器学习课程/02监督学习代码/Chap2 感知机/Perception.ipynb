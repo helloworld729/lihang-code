{
 "cells": [
  {
   "cell_type": "markdown",
   "metadata": {},
   "source": [
    "#### 感知机学习算法的原始形式\n",
    "算法2.1（随机梯度下降法）  \n",
    "输入：训练数据集$T=\\left[(x_1,y_1),\\ldots,(x_N,y_N)\\right)$，学习率$\\eta$  \n",
    "1. 选取初值$w_0,b_0$，确定了假设空间中的一个备选模型\n",
    "2. 在训练集中选取数据$(x_i,y_i)$  \n",
    "3. 如果$y_i(w \\cdot x_i +b) \\leqslant 0$ $$\\begin{aligned} w &:= w+\\eta y_{i} x_{i} \\\\ b &:= b+\\eta y_{i} \\end{aligned}$$\n",
    "4. 转至2，直到训练集中没有误分类的点  \n",
    "\n",
    "输出：$w,b$  \n",
    "**说明：** $\\eta$如果小，这条更新的直线向误分类点移动程度小，如果大的话，移动程度大。"
   ]
  },
  {
   "cell_type": "code",
   "execution_count": 4,
   "metadata": {},
   "outputs": [
    {
     "name": "stdout",
     "output_type": "stream",
     "text": [
      "[1. 1.]\n",
      "-3\n",
      "[[ 3.]\n",
      " [-3.]]\n"
     ]
    },
    {
     "data": {
      "image/png": "[encoded data removed]",
      "text/plain": [
       "<Figure size 432x288 with 1 Axes>"
      ]
     },
     "metadata": {},
     "output_type": "display_data"
    }
   ],
   "source": [
    "import numpy as np\n",
    "import matplotlib.pyplot as plt\n",
    "\n",
    "\n",
    "class MyPerceptron:\n",
    "    def __init__(self):\n",
    "        self.w = None\n",
    "        self.b = 0\n",
    "        self.l_rate = 1\n",
    "\n",
    "    def fit(self, X_train, y_train):\n",
    "        # 用样本点的特征数更新初始w，如x1=(3,3)T，有两个特征，则self.w=[0,0]\n",
    "        self.w = np.zeros(X_train.shape[1])\n",
    "        i = 0\n",
    "        while i < X_train.shape[0]:\n",
    "            X = X_train[i]\n",
    "            y = y_train[i]\n",
    "            # 如果y*(wx+b)≤0 说明是误判点，更新w,b\n",
    "            if y * (np.dot(self.w, X) + self.b) <= 0:\n",
    "                self.w = self.w + self.l_rate * np.dot(y, X)\n",
    "                self.b = self.b + self.l_rate * y\n",
    "                i = 0  # 如果是误判点,从头进行检测\n",
    "            else:\n",
    "                i += 1\n",
    "\n",
    "\n",
    "def draw(X, w, b):\n",
    "    # 产生分离超平面上的两点\n",
    "    X_new = np.array([[0], [6]])\n",
    "#     原视频错误处已更新\n",
    "    y_predict = -(b + w[0] * X_new) / w[1] #w0x+w1y+b=0 则y=-b/w1-w0*x/w1\n",
    "    print(y_predict)\n",
    "    # 绘制训练数据集的散点图\n",
    "    plt.plot(X[:2, 0], X[:2, 1], \"g*\", label=\"1\")\n",
    "#     原视频错误处理更新\n",
    "    plt.plot(X[2:, 0], X[2:, 1], \"rx\", label=\"-1\")\n",
    "    # 绘制分离超平面\n",
    "    plt.plot(X_new, y_predict, \"b-\")\n",
    "    # 设置两坐标轴起止值\n",
    "    plt.axis([0, 6, 0, 6])\n",
    "    # 设置坐标轴标签\n",
    "    plt.xlabel('x1')\n",
    "    plt.ylabel('x2')\n",
    "    # 显示图例\n",
    "    plt.legend()\n",
    "    # 显示图像\n",
    "    plt.show()\n",
    "\n",
    "\n",
    "def main():\n",
    "    # 构造训练数据集\n",
    "    X_train = np.array([[3, 3], [4, 3], [1, 1]])\n",
    "    y_train = np.array([1, 1, -1])\n",
    "    # 构建感知机对象，对数据集继续训练\n",
    "    perceptron = MyPerceptron()\n",
    "    perceptron.fit(X_train, y_train)\n",
    "    print(perceptron.w)\n",
    "    print(perceptron.b)\n",
    "    # 结果图像绘制\n",
    "    draw(X_train, perceptron.w, perceptron.b)\n",
    "\n",
    "\n",
    "if __name__ == \"__main__\":\n",
    "    main()"
   ]
  }
 ],
 "metadata": {
  "kernelspec": {
   "display_name": "Python 3",
   "language": "python",
   "name": "python3"
  },
  "language_info": {
   "codemirror_mode": {
    "name": "ipython",
    "version": 3
   },
   "file_extension": ".py",
   "mimetype": "text/x-python",
   "name": "python",
   "nbconvert_exporter": "python",
   "pygments_lexer": "ipython3",
   "version": "3.6.4"
  }
 },
 "nbformat": 4,
 "nbformat_minor": 4
}
