{
 "cells": [
  {
   "cell_type": "code",
   "execution_count": 159,
   "metadata": {},
   "outputs": [],
   "source": [
    "import numpy as np\n",
    "import matplotlib.pyplot as plt"
   ]
  },
  {
   "cell_type": "code",
   "execution_count": 160,
   "metadata": {},
   "outputs": [],
   "source": [
    "x_train = np.array([[1,1], [3,3], [4,3]])\n",
    "y_train = np.array([-1, 1,1])"
   ]
  },
  {
   "cell_type": "code",
   "execution_count": 161,
   "metadata": {},
   "outputs": [
    {
     "data": {
      "text/plain": [
       "((3, 2), (3,))"
      ]
     },
     "execution_count": 161,
     "metadata": {},
     "output_type": "execute_result"
    }
   ],
   "source": [
    "x_train.shape, y_train.shape"
   ]
  },
  {
   "cell_type": "code",
   "execution_count": 162,
   "metadata": {},
   "outputs": [
    {
     "data": {
      "text/plain": [
       "<matplotlib.legend.Legend at 0x13622dd8>"
      ]
     },
     "execution_count": 162,
     "metadata": {},
     "output_type": "execute_result"
    },
    {
     "data": {
      "image/png": "[encoded data removed]",
      "text/plain": [
       "<Figure size 432x288 with 1 Axes>"
      ]
     },
     "metadata": {
      "needs_background": "light"
     },
     "output_type": "display_data"
    }
   ],
   "source": [
    "plt.plot(x_train[:1, 0], x_train[:1, 1], \"g*\", label=\"1\")\n",
    "plt.plot(x_train[1:, 0], x_train[1:, 1], \"rx\", label=\"-1\")\n",
    "plt.legend()"
   ]
  },
  {
   "cell_type": "code",
   "execution_count": 171,
   "metadata": {},
   "outputs": [],
   "source": [
    "class MyPerception():  # 算法2.1\n",
    "    def __init__(self):\n",
    "        self.w = [0,0]\n",
    "        self.b = 0\n",
    "        self.lr = 1e-4\n",
    "    def fit2(self, x_train, y_train):\n",
    "        i = 0\n",
    "        while i < x_train.shape[0]:\n",
    "            x_, y_ = x_train[i], y_train[i]\n",
    "            if y_ * (np.dot(self.w, x_) +self.b) <= 0:\n",
    "                self.w += self.lr * np.dot(y_, x_)\n",
    "                self.b += self.lr * y_\n",
    "                i = 0\n",
    "            else: i += 1\n",
    "            print(self.w)\n",
    "        return self.w, self.b"
   ]
  },
  {
   "cell_type": "code",
   "execution_count": 172,
   "metadata": {},
   "outputs": [],
   "source": [
    "p = MyPerception()"
   ]
  },
  {
   "cell_type": "code",
   "execution_count": 173,
   "metadata": {},
   "outputs": [
    {
     "name": "stdout",
     "output_type": "stream",
     "text": [
      "[-0.0001 -0.0001]\n",
      "[-0.0001 -0.0001]\n",
      "[0.0002 0.0002]\n",
      "[0.0001 0.0001]\n",
      "[2.71050543e-20 2.71050543e-20]\n",
      "[2.71050543e-20 2.71050543e-20]\n",
      "[0.0003 0.0003]\n",
      "[0.0002 0.0002]\n",
      "[0.0001 0.0001]\n",
      "[0.0001 0.0001]\n",
      "[0.0001 0.0001]\n",
      "[0.0001 0.0001]\n"
     ]
    }
   ],
   "source": [
    "w, b = p.fit2(x_train, y_train)"
   ]
  },
  {
   "cell_type": "code",
   "execution_count": 174,
   "metadata": {},
   "outputs": [
    {
     "data": {
      "text/plain": [
       "<matplotlib.legend.Legend at 0x1379e320>"
      ]
     },
     "execution_count": 174,
     "metadata": {},
     "output_type": "execute_result"
    },
    {
     "data": {
      "image/png": "[encoded data removed]",
      "text/plain": [
       "<Figure size 432x288 with 1 Axes>"
      ]
     },
     "metadata": {
      "needs_background": "light"
     },
     "output_type": "display_data"
    }
   ],
   "source": [
    "x = np.array([0,5])\n",
    "y = (-b-w[0]*x)/w[1]\n",
    "plt.plot(x, y)\n",
    "plt.plot(x_train[:1, 0], x_train[:1, 1], \"g*\", label=\"1\")\n",
    "plt.plot(x_train[1:, 0], x_train[1:, 1], \"rx\", label=\"-1\")\n",
    "plt.legend()"
   ]
  },
  {
   "cell_type": "code",
   "execution_count": null,
   "metadata": {},
   "outputs": [],
   "source": []
  }
 ],
 "metadata": {
  "kernelspec": {
   "display_name": "Python 3",
   "language": "python",
   "name": "python3"
  },
  "language_info": {
   "codemirror_mode": {
    "name": "ipython",
    "version": 3
   },
   "file_extension": ".py",
   "mimetype": "text/x-python",
   "name": "python",
   "nbconvert_exporter": "python",
   "pygments_lexer": "ipython3",
   "version": "3.6.2"
  }
 },
 "nbformat": 4,
 "nbformat_minor": 2
}
